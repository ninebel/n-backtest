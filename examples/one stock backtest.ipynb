{
 "cells": [
  {
   "attachments": {},
   "cell_type": "markdown",
   "metadata": {},
   "source": [
    "### Import and settings"
   ]
  },
  {
   "cell_type": "code",
   "execution_count": 27,
   "metadata": {},
   "outputs": [],
   "source": [
    "import pandas as pd\n",
    "import numpy as np\n",
    "import matplotlib.pyplot as plt\n",
    "import yfinance as yf\n",
    "import quantstats as qs\n",
    "\n",
    "from backtest_lib import Strategy, Backtest\n",
    "\n",
    "from IPython.core.interactiveshell import InteractiveShell\n",
    "InteractiveShell.ast_node_interactivity = \"all\""
   ]
  },
  {
   "attachments": {},
   "cell_type": "markdown",
   "metadata": {},
   "source": [
    "### Define Strategy"
   ]
  },
  {
   "cell_type": "code",
   "execution_count": 28,
   "metadata": {},
   "outputs": [],
   "source": [
    "class Test (Strategy):\n",
    "    stock1 = \"AAPL\"\n",
    "    stock2 = \"GOOG\"\n",
    "    n_days = 0\n",
    "\n",
    "    def on_start(self):\n",
    "        \n",
    "        qtd1 = int((self.broker.balance)/self.close[\"AAPL\"])\n",
    "        qtd2 = int((self.broker.balance)/self.close[\"GOOG\"])\n",
    "\n",
    "        order1 = self.buy(self.stock2, qtd2)\n",
    "        #order2 = self.buy(self.stock2, qtd2)\n",
    "        print(\"Bought %s AAPL and %s GOOG\" % (qtd1, qtd2))\n",
    "\n",
    "        self.t1 = self.new_trade(orders=[order1])\n",
    "        self.t1.max_age = np.inf\n",
    "        \n",
    "\n",
    "    def on_end (self):\n",
    "        #print(\"Finishing strategy...\")\n",
    "        pass\n",
    "\n",
    "\n",
    "    def next(self):\n",
    "        #self.buy(self.stock1, 1)\n",
    "        #print(\"Buy\", self.iteration)\n",
    "        #print(self.iteration, len(self.data))\n",
    "        pass\n"
   ]
  },
  {
   "attachments": {},
   "cell_type": "markdown",
   "metadata": {},
   "source": [
    "### Backtest"
   ]
  },
  {
   "cell_type": "code",
   "execution_count": 29,
   "metadata": {},
   "outputs": [
    {
     "name": "stdout",
     "output_type": "stream",
     "text": [
      "[*********************100%***********************]  2 of 2 completed\n"
     ]
    },
    {
     "data": {
      "text/html": [
       "<div>\n",
       "<style scoped>\n",
       "    .dataframe tbody tr th:only-of-type {\n",
       "        vertical-align: middle;\n",
       "    }\n",
       "\n",
       "    .dataframe tbody tr th {\n",
       "        vertical-align: top;\n",
       "    }\n",
       "\n",
       "    .dataframe thead tr th {\n",
       "        text-align: left;\n",
       "    }\n",
       "\n",
       "    .dataframe thead tr:last-of-type th {\n",
       "        text-align: right;\n",
       "    }\n",
       "</style>\n",
       "<table border=\"1\" class=\"dataframe\">\n",
       "  <thead>\n",
       "    <tr>\n",
       "      <th></th>\n",
       "      <th colspan=\"2\" halign=\"left\">Adj Close</th>\n",
       "      <th colspan=\"2\" halign=\"left\">Close</th>\n",
       "      <th colspan=\"2\" halign=\"left\">High</th>\n",
       "      <th colspan=\"2\" halign=\"left\">Low</th>\n",
       "      <th colspan=\"2\" halign=\"left\">Open</th>\n",
       "      <th colspan=\"2\" halign=\"left\">Volume</th>\n",
       "    </tr>\n",
       "    <tr>\n",
       "      <th></th>\n",
       "      <th>AAPL</th>\n",
       "      <th>GOOG</th>\n",
       "      <th>AAPL</th>\n",
       "      <th>GOOG</th>\n",
       "      <th>AAPL</th>\n",
       "      <th>GOOG</th>\n",
       "      <th>AAPL</th>\n",
       "      <th>GOOG</th>\n",
       "      <th>AAPL</th>\n",
       "      <th>GOOG</th>\n",
       "      <th>AAPL</th>\n",
       "      <th>GOOG</th>\n",
       "    </tr>\n",
       "    <tr>\n",
       "      <th>Date</th>\n",
       "      <th></th>\n",
       "      <th></th>\n",
       "      <th></th>\n",
       "      <th></th>\n",
       "      <th></th>\n",
       "      <th></th>\n",
       "      <th></th>\n",
       "      <th></th>\n",
       "      <th></th>\n",
       "      <th></th>\n",
       "      <th></th>\n",
       "      <th></th>\n",
       "    </tr>\n",
       "  </thead>\n",
       "  <tbody>\n",
       "    <tr>\n",
       "      <th>2023-05-15</th>\n",
       "      <td>172.070007</td>\n",
       "      <td>116.959999</td>\n",
       "      <td>172.070007</td>\n",
       "      <td>116.959999</td>\n",
       "      <td>173.210007</td>\n",
       "      <td>118.794998</td>\n",
       "      <td>171.470001</td>\n",
       "      <td>116.480003</td>\n",
       "      <td>173.160004</td>\n",
       "      <td>116.489998</td>\n",
       "      <td>37266700</td>\n",
       "      <td>22107900</td>\n",
       "    </tr>\n",
       "    <tr>\n",
       "      <th>2023-05-16</th>\n",
       "      <td>172.070007</td>\n",
       "      <td>120.089996</td>\n",
       "      <td>172.070007</td>\n",
       "      <td>120.089996</td>\n",
       "      <td>173.139999</td>\n",
       "      <td>121.199997</td>\n",
       "      <td>171.800003</td>\n",
       "      <td>116.830002</td>\n",
       "      <td>171.990005</td>\n",
       "      <td>116.830002</td>\n",
       "      <td>42110300</td>\n",
       "      <td>32370100</td>\n",
       "    </tr>\n",
       "    <tr>\n",
       "      <th>2023-05-17</th>\n",
       "      <td>172.690002</td>\n",
       "      <td>121.480003</td>\n",
       "      <td>172.690002</td>\n",
       "      <td>121.480003</td>\n",
       "      <td>172.929993</td>\n",
       "      <td>122.279999</td>\n",
       "      <td>170.419998</td>\n",
       "      <td>119.459999</td>\n",
       "      <td>171.710007</td>\n",
       "      <td>120.180000</td>\n",
       "      <td>57951600</td>\n",
       "      <td>26659600</td>\n",
       "    </tr>\n",
       "    <tr>\n",
       "      <th>2023-05-18</th>\n",
       "      <td>175.050003</td>\n",
       "      <td>123.519997</td>\n",
       "      <td>175.050003</td>\n",
       "      <td>123.519997</td>\n",
       "      <td>175.240005</td>\n",
       "      <td>123.900002</td>\n",
       "      <td>172.580002</td>\n",
       "      <td>121.489998</td>\n",
       "      <td>173.000000</td>\n",
       "      <td>121.559998</td>\n",
       "      <td>65496700</td>\n",
       "      <td>27014500</td>\n",
       "    </tr>\n",
       "    <tr>\n",
       "      <th>2023-05-19</th>\n",
       "      <td>175.160004</td>\n",
       "      <td>123.250000</td>\n",
       "      <td>175.160004</td>\n",
       "      <td>123.250000</td>\n",
       "      <td>176.389999</td>\n",
       "      <td>126.478996</td>\n",
       "      <td>174.940002</td>\n",
       "      <td>122.720001</td>\n",
       "      <td>176.389999</td>\n",
       "      <td>124.199997</td>\n",
       "      <td>55772400</td>\n",
       "      <td>30251300</td>\n",
       "    </tr>\n",
       "  </tbody>\n",
       "</table>\n",
       "</div>"
      ],
      "text/plain": [
       "             Adj Close                   Close                    High  \\\n",
       "                  AAPL        GOOG        AAPL        GOOG        AAPL   \n",
       "Date                                                                     \n",
       "2023-05-15  172.070007  116.959999  172.070007  116.959999  173.210007   \n",
       "2023-05-16  172.070007  120.089996  172.070007  120.089996  173.139999   \n",
       "2023-05-17  172.690002  121.480003  172.690002  121.480003  172.929993   \n",
       "2023-05-18  175.050003  123.519997  175.050003  123.519997  175.240005   \n",
       "2023-05-19  175.160004  123.250000  175.160004  123.250000  176.389999   \n",
       "\n",
       "                               Low                    Open              \\\n",
       "                  GOOG        AAPL        GOOG        AAPL        GOOG   \n",
       "Date                                                                     \n",
       "2023-05-15  118.794998  171.470001  116.480003  173.160004  116.489998   \n",
       "2023-05-16  121.199997  171.800003  116.830002  171.990005  116.830002   \n",
       "2023-05-17  122.279999  170.419998  119.459999  171.710007  120.180000   \n",
       "2023-05-18  123.900002  172.580002  121.489998  173.000000  121.559998   \n",
       "2023-05-19  126.478996  174.940002  122.720001  176.389999  124.199997   \n",
       "\n",
       "              Volume            \n",
       "                AAPL      GOOG  \n",
       "Date                            \n",
       "2023-05-15  37266700  22107900  \n",
       "2023-05-16  42110300  32370100  \n",
       "2023-05-17  57951600  26659600  \n",
       "2023-05-18  65496700  27014500  \n",
       "2023-05-19  55772400  30251300  "
      ]
     },
     "execution_count": 29,
     "metadata": {},
     "output_type": "execute_result"
    }
   ],
   "source": [
    "universe = [\"AAPL\", \"GOOG\"]\n",
    "\n",
    "#ohlc = yf.download(universe, interval=\"1d\", period=\"5y\", group_by=\"ticker\")\n",
    "ohlc = yf.download(universe, interval=\"1d\", period=\"5y\")\n",
    "\n",
    "ohlc.tail()\n"
   ]
  },
  {
   "cell_type": "code",
   "execution_count": 30,
   "metadata": {},
   "outputs": [
    {
     "name": "stdout",
     "output_type": "stream",
     "text": [
      "Bought 223 AAPL and 185 GOOG\n"
     ]
    }
   ],
   "source": [
    "bt = Backtest(data=ohlc, universe=universe, strategy=Test)\n",
    "\n",
    "import matplotlib.pyplot as plt\n",
    "\n",
    "result = bt.run()"
   ]
  },
  {
   "cell_type": "code",
   "execution_count": 31,
   "metadata": {},
   "outputs": [
    {
     "data": {
      "text/html": [
       "<div>\n",
       "<style scoped>\n",
       "    .dataframe tbody tr th:only-of-type {\n",
       "        vertical-align: middle;\n",
       "    }\n",
       "\n",
       "    .dataframe tbody tr th {\n",
       "        vertical-align: top;\n",
       "    }\n",
       "\n",
       "    .dataframe thead th {\n",
       "        text-align: right;\n",
       "    }\n",
       "</style>\n",
       "<table border=\"1\" class=\"dataframe\">\n",
       "  <thead>\n",
       "    <tr style=\"text-align: right;\">\n",
       "      <th></th>\n",
       "      <th>quantity</th>\n",
       "      <th>total_invested</th>\n",
       "      <th>value</th>\n",
       "    </tr>\n",
       "    <tr>\n",
       "      <th>ticker</th>\n",
       "      <th></th>\n",
       "      <th></th>\n",
       "      <th></th>\n",
       "    </tr>\n",
       "  </thead>\n",
       "  <tbody>\n",
       "    <tr>\n",
       "      <th>AAPL</th>\n",
       "      <td>223</td>\n",
       "      <td>-9996.718662</td>\n",
       "      <td>39060.680817</td>\n",
       "    </tr>\n",
       "  </tbody>\n",
       "</table>\n",
       "</div>"
      ],
      "text/plain": [
       "        quantity  total_invested         value\n",
       "ticker                                        \n",
       "AAPL         223    -9996.718662  39060.680817"
      ]
     },
     "execution_count": 31,
     "metadata": {},
     "output_type": "execute_result"
    },
    {
     "name": "stdout",
     "output_type": "stream",
     "text": [
      "3.2813377380371094\n",
      "39063.96215438843\n"
     ]
    }
   ],
   "source": [
    "bt.broker.positions\n",
    "print(bt.broker.balance)\n",
    "print(bt.broker.equity)"
   ]
  },
  {
   "cell_type": "code",
   "execution_count": 32,
   "metadata": {},
   "outputs": [
    {
     "data": {
      "text/html": [
       "<div>\n",
       "<style scoped>\n",
       "    .dataframe tbody tr th:only-of-type {\n",
       "        vertical-align: middle;\n",
       "    }\n",
       "\n",
       "    .dataframe tbody tr th {\n",
       "        vertical-align: top;\n",
       "    }\n",
       "\n",
       "    .dataframe thead th {\n",
       "        text-align: right;\n",
       "    }\n",
       "</style>\n",
       "<table border=\"1\" class=\"dataframe\">\n",
       "  <thead>\n",
       "    <tr style=\"text-align: right;\">\n",
       "      <th></th>\n",
       "      <th>iteration</th>\n",
       "      <th>timestamp</th>\n",
       "      <th>action</th>\n",
       "      <th>ticker</th>\n",
       "      <th>quantity</th>\n",
       "      <th>price</th>\n",
       "      <th>total</th>\n",
       "    </tr>\n",
       "    <tr>\n",
       "      <th>id</th>\n",
       "      <th></th>\n",
       "      <th></th>\n",
       "      <th></th>\n",
       "      <th></th>\n",
       "      <th></th>\n",
       "      <th></th>\n",
       "      <th></th>\n",
       "    </tr>\n",
       "  </thead>\n",
       "  <tbody>\n",
       "    <tr>\n",
       "      <th>0</th>\n",
       "      <td>0</td>\n",
       "      <td>2018-05-21</td>\n",
       "      <td>buy</td>\n",
       "      <td>AAPL</td>\n",
       "      <td>223</td>\n",
       "      <td>44.828335</td>\n",
       "      <td>-9996.718662</td>\n",
       "    </tr>\n",
       "  </tbody>\n",
       "</table>\n",
       "</div>"
      ],
      "text/plain": [
       "    iteration  timestamp action ticker  quantity      price        total\n",
       "id                                                                      \n",
       "0           0 2018-05-21    buy   AAPL       223  44.828335 -9996.718662"
      ]
     },
     "execution_count": 32,
     "metadata": {},
     "output_type": "execute_result"
    }
   ],
   "source": [
    "bt.broker.orderbook"
   ]
  },
  {
   "cell_type": "code",
   "execution_count": 33,
   "metadata": {},
   "outputs": [
    {
     "data": {
      "text/plain": [
       "<AxesSubplot: xlabel='Date'>"
      ]
     },
     "execution_count": 33,
     "metadata": {},
     "output_type": "execute_result"
    },
    {
     "data": {
      "image/png": "[encoded data removed]",
      "text/plain": [
       "<Figure size 1000x600 with 1 Axes>"
      ]
     },
     "metadata": {},
     "output_type": "display_data"
    }
   ],
   "source": [
    "result.Equity.plot()\n",
    "plt.grid()"
   ]
  },
  {
   "cell_type": "code",
   "execution_count": 34,
   "metadata": {},
   "outputs": [
    {
     "data": {
      "text/plain": [
       "290.6396215438843"
      ]
     },
     "execution_count": 34,
     "metadata": {},
     "output_type": "execute_result"
    }
   ],
   "source": [
    "(result.Equity[-1]/result.Equity[0]-1)*100"
   ]
  },
  {
   "cell_type": "code",
   "execution_count": 39,
   "metadata": {},
   "outputs": [
    {
     "data": {
      "text/plain": [
       "AAPL    44.828335\n",
       "GOOG    53.979000\n",
       "Name: 2018-05-21 00:00:00, dtype: float64"
      ]
     },
     "execution_count": 39,
     "metadata": {},
     "output_type": "execute_result"
    },
    {
     "data": {
      "text/plain": [
       "AAPL    175.160004\n",
       "GOOG    123.250000\n",
       "Name: 2023-05-19 00:00:00, dtype: float64"
      ]
     },
     "execution_count": 39,
     "metadata": {},
     "output_type": "execute_result"
    }
   ],
   "source": [
    "result[\"Adj Close\"].iloc[0]\n",
    "result[\"Adj Close\"].iloc[-1]"
   ]
  },
  {
   "cell_type": "code",
   "execution_count": 40,
   "metadata": {},
   "outputs": [
    {
     "data": {
      "text/plain": [
       "AAPL    46.907501\n",
       "GOOG    53.979000\n",
       "Name: 2018-05-21 00:00:00, dtype: float64"
      ]
     },
     "execution_count": 40,
     "metadata": {},
     "output_type": "execute_result"
    },
    {
     "data": {
      "text/plain": [
       "AAPL    175.160004\n",
       "GOOG    123.250000\n",
       "Name: 2023-05-19 00:00:00, dtype: float64"
      ]
     },
     "execution_count": 40,
     "metadata": {},
     "output_type": "execute_result"
    }
   ],
   "source": [
    "result[\"Close\"].iloc[0]\n",
    "result[\"Close\"].iloc[-1]"
   ]
  }
 ],
 "metadata": {
  "kernelspec": {
   "display_name": "quant",
   "language": "python",
   "name": "python3"
  },
  "language_info": {
   "codemirror_mode": {
    "name": "ipython",
    "version": 3
   },
   "file_extension": ".py",
   "mimetype": "text/x-python",
   "name": "python",
   "nbconvert_exporter": "python",
   "pygments_lexer": "ipython3",
   "version": "3.9.15"
  },
  "orig_nbformat": 4,
  "vscode": {
   "interpreter": {
    "hash": "7ff5dfa7cdd7b1443b5155cef9b40cc6fe14b01ef9a1c8189119b12a9a5787b6"
   }
  }
 },
 "nbformat": 4,
 "nbformat_minor": 2
}
